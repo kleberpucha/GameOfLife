{
 "cells": [
  {
   "cell_type": "markdown",
   "metadata": {},
   "source": [
    "# Game of Life"
   ]
  },
  {
   "cell_type": "markdown",
   "metadata": {},
   "source": [
    "#### Nombre : KLEBER FERNANDO PUCHA ORTIZ"
   ]
  },
  {
   "cell_type": "markdown",
   "metadata": {},
   "source": [
    "# Juego de la vida\n",
    "\n",
    "Este juego fue diseñado por el matemático británico John Horton Conway en 1970. Este es un juego para cero jugadores, lo que significa que solo necesitamos una entrada inicial, y luego podemos observar cómo evoluciona la configuración. Hay muchos patrones de interés sobre The Game of Life. [1] Las personas juegan la Vida en una cuadrícula bidimensional de celdas cuadradas, cada una de las cuales se encuentra en uno de dos estados posibles, vivo o muerto. La plaza interactuará con sus ocho vecinos. Las reglas para cada actualización son las siguientes [1]:\n",
    "\n",
    " 1. Cualquier célula viva con menos de dos vecinos vivos muere \n",
    " 2. Cualquier célula viva con dos o tres vecinos vivos vive \n",
    " 3. Cualquier célula viva con más de tres vecinos vivos muere \n",
    " 4. Cualquier célula muerta con exactamente tres vecinos vivos cobra vida\n",
    "\n",
    "Más información en Game of Life En este proyecto, se analizarán ciertos patrones utilizando el juego de la vida de Conway, todos los patrones deberían ser similares en algunas características, pero al mismo tiempo ser diferentes entre sí, estos patrones se pueden usar en seguridad y Sería importante saber cuál de las muestras utilizadas es la más compleja de todas."
   ]
  },
  {
   "cell_type": "code",
   "execution_count": 4,
   "metadata": {},
   "outputs": [],
   "source": [
    "# Se importan las bibliotecas necesarias.\n",
    "\n",
    "import numpy as np \n",
    "import matplotlib.pyplot as plt \n",
    "import matplotlib.patches as patches"
   ]
  },
  {
   "cell_type": "code",
   "execution_count": 5,
   "metadata": {},
   "outputs": [],
   "source": [
    "# La matriz se amplía para analizar a los vecinos.\n",
    "\n",
    "def exten(mat): \n",
    "    n = len(mat) \n",
    "    ex = np.zeros((n+2,n+2)) \n",
    "    ex[1:n+1,1:n+1] = mat \n",
    "    return ex"
   ]
  },
  {
   "cell_type": "code",
   "execution_count": 6,
   "metadata": {},
   "outputs": [],
   "source": [
    "# Se cuentan las células vivas que están alrededor de cada célula.\n",
    "\n",
    "def veci(i,j, ex): \n",
    "    return (ex[i,j-1] + ex[i,j+1] + ex[i-1,j-1] + (ex[i-1,j] + ex[i-1,j+1] + ex[i+1,j-1]) + (ex[i+1,j]+ ex[i+1,j+1]))\n"
   ]
  },
  {
   "cell_type": "code",
   "execution_count": 7,
   "metadata": {},
   "outputs": [],
   "source": [
    "# En este paso las reglas del juego de la vida se aplican a cada celda.\n",
    "\n",
    "def reglas(mat): \n",
    "    n = len(mat) \n",
    "    ex = exten(mat) \n",
    "    nmat = np.zeros((n,n)) \n",
    "    for i in range(1,n+1): \n",
    "        for j in range(1,n+1): \n",
    "            s = veci(i,j,ex) \n",
    "            if s>3 or s <=1: \n",
    "                nmat[i-1,j-1] = 0 \n",
    "            if s == 3 and mat[i-1,j-1]== 0: \n",
    "                nmat[i-1,j-1] = 1 \n",
    "            if (s == 3 or s== 2) and mat[i-1,j-1]== 1: \n",
    "                nmat[i-1,j-1] = 1 \n",
    "    return nmat"
   ]
  },
  {
   "cell_type": "code",
   "execution_count": 8,
   "metadata": {},
   "outputs": [],
   "source": [
    "# Este método nos permite ejecutar las reglas un cierto número de veces.\n",
    "\n",
    "def correr(n,ini): \n",
    "    pasos = [] \n",
    "    pasos.append(ini) \n",
    "    g = ini \n",
    "    for i in range(n): \n",
    "        g = reglas(g) \n",
    "        pasos.append(g) \n",
    "    return pasos"
   ]
  },
  {
   "cell_type": "code",
   "execution_count": 61,
   "metadata": {},
   "outputs": [],
   "source": [
    "# De esta manera se crea una muestra:\n",
    "\n",
    "init = np.zeros((34,34)) \n",
    "init[8,5] = 1 \n",
    "init[9,6] = 1 \n",
    "init[8,7] = 1 \n",
    "init[9,8] = 1 \n",
    "init[8,9] = 1 \n",
    "init[9,11] = 1 \n",
    "init[8,12] = 1 \n",
    "init[9,13] = 1 \n",
    "init[8,14] = 1 \n",
    "init[9,15] = 1\n",
    "\n",
    "init[10,5] = 1 \n",
    "init[11,6] = 1 \n",
    "init[10,7] = 1 \n",
    "init[11,8] = 1 \n",
    "init[10,9] = 1 \n",
    "init[11,11] = 1 \n",
    "init[10,12] = 1 \n",
    "init[11,13] = 1 \n",
    "init[10,14] = 1 \n",
    "init[11,15] = 1\n",
    "\n",
    "\n",
    "init[20,5] = 1 \n",
    "init[22,6] = 1 \n",
    "init[5,7] = 1 \n",
    "init[5,8] = 1 \n",
    "init[5,9] = 1 \n",
    "init[5,11] = 1 \n",
    "init[5,12] = 1 \n",
    "init[5,13] = 1 \n",
    "init[22,14] = 1 \n",
    "init[20,15] = 1\n",
    "\n",
    "init[20,5] = 1 \n",
    "init[22,6] = 1 \n",
    "init[22,7] = 1 \n",
    "init[22,8] = 1 \n",
    "init[23,9] = 1 \n",
    "init[23,11] = 1 \n",
    "init[22,12] = 1 \n",
    "init[22,13] = 1 \n",
    "init[22,14] = 1 \n",
    "init[20,15] = 1"
   ]
  },
  {
   "cell_type": "code",
   "execution_count": 62,
   "metadata": {},
   "outputs": [],
   "source": [
    "# Se llama al método para que realice 5 interacciones con la matriz inicial.\n",
    "\n",
    "res = correr(5, init)"
   ]
  },
  {
   "cell_type": "code",
   "execution_count": 63,
   "metadata": {},
   "outputs": [
    {
     "name": "stdout",
     "output_type": "stream",
     "text": [
      "[[0. 0. 0. ... 0. 0. 0.]\n",
      " [0. 0. 0. ... 0. 0. 0.]\n",
      " [0. 0. 0. ... 0. 0. 0.]\n",
      " ...\n",
      " [0. 0. 0. ... 0. 0. 0.]\n",
      " [0. 0. 0. ... 0. 0. 0.]\n",
      " [0. 0. 0. ... 0. 0. 0.]]\n",
      "34\n"
     ]
    }
   ],
   "source": [
    "#  La matriz de la última interacción se imprime en consola.\n",
    "\n",
    "print (res[5]) \n",
    "print (len(res[5]))"
   ]
  },
  {
   "cell_type": "code",
   "execution_count": 64,
   "metadata": {},
   "outputs": [],
   "source": [
    "# Método que permite graficar una matriz.\n",
    "\n",
    "def grafmat(mt): \n",
    "    n = len(mt) \n",
    "    dx = 1/n \n",
    "    pieces = [] \n",
    "    frame = patches.Rectangle( \n",
    "        (0.0, 0.0),1, 1, fill=False, edgecolor=\"white\",linewidth=2) \n",
    "    pieces.append(frame) \n",
    "    for j in range(n): \n",
    "        for i in range(n): \n",
    "            if mt[i,j]== 1: \n",
    "                p = patches.Rectangle( \n",
    "                    (j/n,(n-1-i)/n), dx,dx, edgecolor=\"Gray\", facecolor=\"black\", fill=True, linewidth=2 )\n",
    "                pieces.append(p) \n",
    "            if mt[i,j]== 0:\n",
    "                p = patches.Rectangle( \n",
    "                    (j/n,(n-1-i)/n), dx,dx, edgecolor=\"Gray\", fill=False,linewidth=2) \n",
    "                pieces.append(p) \n",
    "    return pieces\n"
   ]
  },
  {
   "cell_type": "code",
   "execution_count": 65,
   "metadata": {},
   "outputs": [],
   "source": [
    " def vermat(x): \n",
    "        ax1=plt.subplot(111,aspect='equal') \n",
    "        shape = grafmat(x) \n",
    "        for p in shape: ax1.add_patch(p) \n",
    "        plt.axis('off') \n",
    "        plt.show()\n"
   ]
  },
  {
   "cell_type": "code",
   "execution_count": 66,
   "metadata": {},
   "outputs": [
    {
     "data": {
      "image/png": "[encoded data removed]",
      "text/plain": [
       "<Figure size 432x288 with 1 Axes>"
      ]
     },
     "metadata": {
      "needs_background": "light"
     },
     "output_type": "display_data"
    }
   ],
   "source": [
    "vermat (res[0])"
   ]
  },
  {
   "cell_type": "code",
   "execution_count": 67,
   "metadata": {},
   "outputs": [],
   "source": [
    "def ver5(v,w,x, y, z): \n",
    "    fg = plt.figure(figsize=(20,4)) \n",
    "    adj = plt.subplots_adjust(hspace=0.4)\n",
    "    \n",
    "    ax0=plt.subplot(151,aspect='equal') \n",
    "    shape = grafmat(v) \n",
    "    for p in shape: ax0.add_patch(p) \n",
    "    plt.axis('off')\n",
    "    \n",
    "    ax1=plt.subplot(152,aspect='equal') \n",
    "    shape = grafmat(w) \n",
    "    for p in shape: ax1.add_patch(p) \n",
    "    plt.axis('off')\n",
    "    \n",
    "    ax2=plt.subplot(153,aspect='equal')  \n",
    "    shape = grafmat(x) \n",
    "    for p in shape: ax2.add_patch(p) \n",
    "    plt.axis('off')\n",
    "    \n",
    "    ax3=plt.subplot(154,aspect='equal') \n",
    "    shape = grafmat(y) \n",
    "    for p in shape: ax3.add_patch(p) \n",
    "    plt.axis('off')\n",
    "    \n",
    "    ax4=plt.subplot(155,aspect='equal') \n",
    "    shape = grafmat(z) \n",
    "    for p in shape: ax4.add_patch(p) \n",
    "    plt.axis('off')\n",
    "    plt.show()\n",
    "\n"
   ]
  },
  {
   "cell_type": "code",
   "execution_count": 68,
   "metadata": {},
   "outputs": [
    {
     "data": {
      "image/png": "[encoded data removed]",
      "text/plain": [
       "<Figure size 432x288 with 1 Axes>"
      ]
     },
     "metadata": {
      "needs_background": "light"
     },
     "output_type": "display_data"
    }
   ],
   "source": [
    "cor= correr(46, init)\n",
    "vermat(init)"
   ]
  },
  {
   "cell_type": "code",
   "execution_count": 45,
   "metadata": {},
   "outputs": [],
   "source": [
    " def base(): \n",
    "        Base = np.zeros((34,34)) \n",
    "        Base[13,12] = 1 \n",
    "        Base[12,16] = 1 \n",
    "        Base[13,20] = 1 \n",
    "        Base[16,12] = 1 \n",
    "        Base[17,16] = 1 \n",
    "        Base[16,20] = 1 \n",
    "        Base[21,12] = 1 \n",
    "        Base[20,16] = 1 \n",
    "        Base[21,20] = 1 \n",
    "        return Base\n"
   ]
  },
  {
   "cell_type": "code",
   "execution_count": 70,
   "metadata": {},
   "outputs": [],
   "source": [
    "m1 = base() \n",
    "m1[13,19] = 1 \n",
    "m1[14,18] = 1 \n",
    "m1[15,17] = 1 \n",
    "m1[17,16] = 1 \n",
    "m1[18,16] = 1 \n",
    "m1[19,16] = 1 \n",
    "m1[20,17] = 1 \n",
    "m1[20,18] = 1 \n",
    "m1[20,19] = 1\n",
    "m1[23,19] = 1 \n",
    "m1[24,18] = 1 \n",
    "m1[25,17] = 1 \n",
    "m1[27,16] = 1 \n",
    "m1[28,16] = 1 \n",
    "m1[29,16] = 1 \n",
    "m1[30,17] = 1 \n",
    "m1[30,18] = 1 \n",
    "m1[30,19] = 1\n",
    "\n",
    "m2 = base() \n",
    "m2[13,13] = 1\n",
    "m2[14,14] = 1 \n",
    "m2[15,15] = 1 \n",
    "m2[15,17] = 1 \n",
    "m2[14,18] = 1 \n",
    "m2[13,19] = 1 \n",
    "m2[13,20] = 1 \n",
    "m2[14,20] = 1 \n",
    "m2[15,20] = 1\n",
    "m2[14,13] = 1\n",
    "m2[15,14] = 1 \n",
    "m2[16,15] = 1 \n",
    "m2[17,17] = 1 \n",
    "m2[14,18] = 1 \n",
    "m2[13,19] = 1 \n",
    "m2[13,21] = 1 \n",
    "m2[14,22] = 1 \n",
    "m2[15,23] = 1\n",
    "\n",
    "m3 = base() \n",
    "m3[16,13] = 1 \n",
    "m3[16,14] = 1 \n",
    "m3[16,15] = 1 \n",
    "m3[13,16] = 1 \n",
    "m3[14,16] = 1 \n",
    "m3[15,16] = 1 \n",
    "m3[12,17] = 1 \n",
    "m3[12,18] = 1 \n",
    "m3[12,19] = 1\n",
    "\n",
    "m4 = base() \n",
    "m4[13,13] = 1 \n",
    "m4[14,14] = 1 \n",
    "m4[15,15] = 1 \n",
    "m4[16,13] = 1 \n",
    "m4[16,14] = 1 \n",
    "m4[16,15] = 1\n",
    "m4[17,13] = 1 \n",
    "m4[18,14] = 1 \n",
    "m4[19,15] = 1\n",
    "\n",
    "m5 = base() \n",
    "m5[17,12] = 1 \n",
    "m5[18,12] = 1 \n",
    "m5[19,12] = 1 \n",
    "m5[20,13] = 1 \n",
    "m5[20,14] = 1 \n",
    "m5[20,15] = 1 \n",
    "m5[17,16] = 1 \n",
    "m5[18,16] = 1 \n",
    "m5[19,16] = 1\n",
    "\n",
    "\n",
    "\n"
   ]
  },
  {
   "cell_type": "code",
   "execution_count": 71,
   "metadata": {},
   "outputs": [
    {
     "data": {
      "image/png": "[encoded data removed]",
      "text/plain": [
       "<Figure size 432x288 with 1 Axes>"
      ]
     },
     "metadata": {
      "needs_background": "light"
     },
     "output_type": "display_data"
    }
   ],
   "source": [
    "vermat (base())"
   ]
  },
  {
   "cell_type": "code",
   "execution_count": 72,
   "metadata": {},
   "outputs": [
    {
     "data": {
      "image/png": "[encoded data removed]",
      "text/plain": [
       "<Figure size 1440x288 with 5 Axes>"
      ]
     },
     "metadata": {
      "needs_background": "light"
     },
     "output_type": "display_data"
    }
   ],
   "source": [
    "ver5 (m1,m2,m3,m4,m5)"
   ]
  },
  {
   "cell_type": "code",
   "execution_count": 51,
   "metadata": {
    "scrolled": true
   },
   "outputs": [
    {
     "name": "stdout",
     "output_type": "stream",
     "text": [
      "RESULTADOS\n",
      "We show the 5 last interactions of each sample:\n"
     ]
    },
    {
     "data": {
      "image/png": "[encoded data removed]",
      "text/plain": [
       "<Figure size 1440x288 with 5 Axes>"
      ]
     },
     "metadata": {
      "needs_background": "light"
     },
     "output_type": "display_data"
    },
    {
     "data": {
      "image/png": "[encoded data removed]",
      "text/plain": [
       "<Figure size 1440x288 with 5 Axes>"
      ]
     },
     "metadata": {
      "needs_background": "light"
     },
     "output_type": "display_data"
    },
    {
     "data": {
      "image/png": "[encoded data removed]",
      "text/plain": [
       "<Figure size 1440x288 with 5 Axes>"
      ]
     },
     "metadata": {
      "needs_background": "light"
     },
     "output_type": "display_data"
    },
    {
     "data": {
      "image/png": "[encoded data removed]",
      "text/plain": [
       "<Figure size 1440x288 with 5 Axes>"
      ]
     },
     "metadata": {
      "needs_background": "light"
     },
     "output_type": "display_data"
    },
    {
     "data": {
      "image/png": "[encoded data removed]",
      "text/plain": [
       "<Figure size 1440x288 with 5 Axes>"
      ]
     },
     "metadata": {
      "needs_background": "light"
     },
     "output_type": "display_data"
    }
   ],
   "source": [
    "muestras = [m1,m2,m3,m4,m5] \n",
    "resultados = []\n",
    "for m in muestras: \n",
    "    r = correr(300, m) \n",
    "    resultados.append(r)\n",
    "    \n",
    "print(\"RESULTADOS\") \n",
    "print(\"We show the 5 last interactions of each sample:\")\n",
    "\n",
    "i = 1 \n",
    "for r in resultados: \n",
    "    ver5 (r[len(r)-5],r[len(r)-4],r[len(r)-3],r[len(r)-2],r[len(r)-1]) \n",
    "                                                                                                                                        \n",
    "    i = i + 1\n",
    "\n"
   ]
  },
  {
   "cell_type": "code",
   "execution_count": 73,
   "metadata": {},
   "outputs": [
    {
     "name": "stdout",
     "output_type": "stream",
     "text": [
      "Muestra  1\n"
     ]
    },
    {
     "data": {
      "image/png": "[encoded data removed]",
      "text/plain": [
       "<Figure size 432x288 with 1 Axes>"
      ]
     },
     "metadata": {
      "needs_background": "light"
     },
     "output_type": "display_data"
    },
    {
     "data": {
      "image/png": "[encoded data removed]",
      "text/plain": [
       "<Figure size 432x288 with 1 Axes>"
      ]
     },
     "metadata": {
      "needs_background": "light"
     },
     "output_type": "display_data"
    },
    {
     "name": "stdout",
     "output_type": "stream",
     "text": [
      "Muestra  2\n"
     ]
    },
    {
     "data": {
      "image/png": "[encoded data removed]",
      "text/plain": [
       "<Figure size 432x288 with 1 Axes>"
      ]
     },
     "metadata": {
      "needs_background": "light"
     },
     "output_type": "display_data"
    },
    {
     "data": {
      "image/png": "[encoded data removed]",
      "text/plain": [
       "<Figure size 432x288 with 1 Axes>"
      ]
     },
     "metadata": {
      "needs_background": "light"
     },
     "output_type": "display_data"
    },
    {
     "name": "stdout",
     "output_type": "stream",
     "text": [
      "Muestra  3\n"
     ]
    },
    {
     "data": {
      "image/png": "[encoded data removed]",
      "text/plain": [
       "<Figure size 432x288 with 1 Axes>"
      ]
     },
     "metadata": {
      "needs_background": "light"
     },
     "output_type": "display_data"
    },
    {
     "data": {
      "image/png": "[encoded data removed]",
      "text/plain": [
       "<Figure size 432x288 with 1 Axes>"
      ]
     },
     "metadata": {
      "needs_background": "light"
     },
     "output_type": "display_data"
    },
    {
     "name": "stdout",
     "output_type": "stream",
     "text": [
      "Muestra  4\n"
     ]
    },
    {
     "data": {
      "image/png": "[encoded data removed]",
      "text/plain": [
       "<Figure size 432x288 with 1 Axes>"
      ]
     },
     "metadata": {
      "needs_background": "light"
     },
     "output_type": "display_data"
    },
    {
     "data": {
      "image/png": "[encoded data removed]",
      "text/plain": [
       "<Figure size 432x288 with 1 Axes>"
      ]
     },
     "metadata": {
      "needs_background": "light"
     },
     "output_type": "display_data"
    },
    {
     "name": "stdout",
     "output_type": "stream",
     "text": [
      "Muestra  5\n"
     ]
    },
    {
     "data": {
      "image/png": "[encoded data removed]",
      "text/plain": [
       "<Figure size 432x288 with 1 Axes>"
      ]
     },
     "metadata": {
      "needs_background": "light"
     },
     "output_type": "display_data"
    },
    {
     "name": "stdout",
     "output_type": "stream",
     "text": [
      "[(1, 87), (2, 83), (3, 63), (4, 47), (5, 42), (6, 34), (7, 41), (8, 32), (9, 31), (10, 30), (11, 30), (12, 32), (13, 32), (14, 36), (15, 36), (16, 45), (17, 36), (18, 38), (19, 39), (20, 38), (21, 38), (22, 36), (23, 34), (24, 34), (25, 32), (26, 29), (27, 29), (28, 29), (29, 31), (30, 31), (31, 31), (32, 31), (33, 31), (34, 31), (35, 31), (36, 31), (37, 31), (38, 31), (39, 31), (40, 31), (41, 31), (42, 31), (43, 31), (44, 31), (45, 31), (46, 31), (47, 31), (48, 31), (49, 31), (50, 31), (51, 31), (52, 31), (53, 31), (54, 31), (55, 31), (56, 31), (57, 31), (58, 31), (59, 31), (60, 31), (61, 31), (62, 31), (63, 31), (64, 31), (65, 31), (66, 31), (67, 31), (68, 31), (69, 31), (70, 31), (71, 31), (72, 31), (73, 31), (74, 31), (75, 31), (76, 31), (77, 31), (78, 31), (79, 31), (80, 31), (81, 31), (82, 31), (83, 31), (84, 31), (85, 31), (86, 31), (87, 31), (88, 31), (89, 31), (90, 31), (91, 31), (92, 31), (93, 31), (94, 31), (95, 31), (96, 31), (97, 31), (98, 31), (99, 31), (100, 31), (101, 31), (102, 31), (103, 31), (104, 31), (105, 31), (106, 31), (107, 31), (108, 31), (109, 31), (110, 31), (111, 31), (112, 31), (113, 31), (114, 31), (115, 31), (116, 31), (117, 31), (118, 31), (119, 31), (120, 31), (121, 31), (122, 31), (123, 31), (124, 31), (125, 31), (126, 31), (127, 31), (128, 31), (129, 31), (130, 31), (131, 31), (132, 31), (133, 31), (134, 31), (135, 31), (136, 31), (137, 31), (138, 31), (139, 31), (140, 31), (141, 31), (142, 31), (143, 31), (144, 31), (145, 31), (146, 31), (147, 31), (148, 31), (149, 31), (150, 31), (151, 31), (152, 31), (153, 31), (154, 31), (155, 31), (156, 31), (157, 31), (158, 31), (159, 31), (160, 31), (161, 31), (162, 31), (163, 31), (164, 31), (165, 31), (166, 31), (167, 31), (168, 31), (169, 31), (170, 31), (171, 31), (172, 31), (173, 31), (174, 31), (175, 31), (176, 31), (177, 31), (178, 31), (179, 31), (180, 31), (181, 31), (182, 31), (183, 31), (184, 31), (185, 31), (186, 31), (187, 31), (188, 31), (189, 31), (190, 31), (191, 31), (192, 31), (193, 31), (194, 31), (195, 31), (196, 31), (197, 31), (198, 31), (199, 31), (200, 31), (201, 31), (202, 31), (203, 31), (204, 31), (205, 31), (206, 31), (207, 31), (208, 31), (209, 31), (210, 31), (211, 31), (212, 31), (213, 31), (214, 31), (215, 31), (216, 31), (217, 31), (218, 31), (219, 31), (220, 31), (221, 31), (222, 31), (223, 31), (224, 31), (225, 31), (226, 31), (227, 31), (228, 31), (229, 31), (230, 31), (231, 31), (232, 31), (233, 31), (234, 31), (235, 31), (236, 31), (237, 31), (238, 31), (239, 31), (240, 31), (241, 31), (242, 31), (243, 31), (244, 31), (245, 31), (246, 31), (247, 31), (248, 31), (249, 31), (250, 31), (251, 31), (252, 31), (253, 31), (254, 31), (255, 31), (256, 31), (257, 31), (258, 31), (259, 31), (260, 31), (261, 31), (262, 31), (263, 31), (264, 31), (265, 31), (266, 31), (267, 31), (268, 31), (269, 31), (270, 31), (271, 31), (272, 31), (273, 31), (274, 31), (275, 31), (276, 31), (277, 31), (278, 31), (279, 31), (280, 31), (281, 31), (282, 31), (283, 31), (284, 31), (285, 31), (286, 31), (287, 31), (288, 31), (289, 31), (290, 31), (291, 31), (292, 31), (293, 31), (294, 31), (295, 31), (296, 31), (297, 31), (298, 31), (299, 31), (300, 31), (301, 31)]\n"
     ]
    },
    {
     "data": {
      "image/png": "[encoded data removed]",
      "text/plain": [
       "<Figure size 432x288 with 1 Axes>"
      ]
     },
     "metadata": {
      "needs_background": "light"
     },
     "output_type": "display_data"
    }
   ],
   "source": [
    "import simpy \n",
    "import random \n",
    "import matplotlib.pyplot as pp\n",
    "\n",
    "dms={} \n",
    "dm={} \n",
    "j = 0 \n",
    "for r in resultados: \n",
    "    j = j + 1 \n",
    "    i = 0 \n",
    "    for m in r: \n",
    "        i = i + 1 \n",
    "        for fila in range(len(m)): \n",
    "            for columna in range(len(m)): \n",
    "                if m[fila][columna] == 1: \n",
    "                    if i in dm: \n",
    "                        dm[i]=dm[i]+1 \n",
    "                    else: \n",
    "                        dm[i]=1\n",
    "dms[j]=dm \n",
    "dm={}\n",
    "\n",
    "# Generamos la grafica \n",
    "\n",
    "for key, dicm in dms.items(): \n",
    "        print (\"Muestra \", 1) \n",
    "        vermat (muestras[1-1]) \n",
    "        datos=sorted(dicm.items()) \n",
    "        x, y =zip(*datos) \n",
    "        pp.plot(x,y,linewidth=2,color='red') \n",
    "        pp.scatter(x,y,color='blue') \n",
    "        pp.grid(True) \n",
    "        pp.title(\"Muestra %s\" %(1)) \n",
    "        pp.xlabel('Interacciones') \n",
    "        pp.ylabel('Celulas Vivas')\n",
    "        pp.show()\n",
    "\n",
    "\n",
    "for key, dicm in dms.items(): \n",
    "    print (\"Muestra \", 2) \n",
    "    vermat (muestras[2-1]) \n",
    "    datos=sorted(dicm.items()) \n",
    "    x, y =zip(*datos) \n",
    "    pp.plot(x,y,linewidth=2,color='red') \n",
    "    pp.scatter(x,y,color='blue') \n",
    "    pp.grid(True) \n",
    "    pp.title(\"Muestra %s\" %(2)) \n",
    "    pp.xlabel('Interacciones') \n",
    "    pp.ylabel('Celulas Vivas')\n",
    "    pp.show()\n",
    "   \n",
    "\n",
    "    for key, dicm in dms.items(): \n",
    "        print (\"Muestra \", 3) \n",
    "        vermat (muestras[3-1]) \n",
    "        datos=sorted(dicm.items()) \n",
    "        x, y =zip(*datos) \n",
    "        pp.plot(x,y,linewidth=2,color='red') \n",
    "        pp.scatter(x,y,color='blue') \n",
    "        pp.grid(True) \n",
    "        pp.title(\"Muestra %s\" %(3)) \n",
    "        pp.xlabel('Interacciones') \n",
    "        pp.ylabel('Celulas Vivas')\n",
    "        pp.show()\n",
    "        \n",
    "        \n",
    "    for key, dicm in dms.items(): \n",
    "        print (\"Muestra \", 4) \n",
    "        vermat (muestras[4-1]) \n",
    "        datos=sorted(dicm.items()) \n",
    "        x, y =zip(*datos) \n",
    "        pp.plot(x,y,linewidth=2,color='red') \n",
    "        pp.scatter(x,y,color='blue') \n",
    "        pp.grid(True) \n",
    "        pp.title(\"Muestra %s\" %(4)) \n",
    "        pp.xlabel('Interacciones') \n",
    "        pp.ylabel('Celulas Vivas')\n",
    "        pp.show()\n",
    "        \n",
    "    for key, dicm in dms.items(): \n",
    "        print (\"Muestra \", key) \n",
    "        vermat (muestras[key-1]) \n",
    "        datos=sorted(dicm.items())\n",
    "        print(datos)\n",
    "        x, y =zip(*datos) \n",
    "        pp.plot(x,y,linewidth=2,color='red') \n",
    "        pp.scatter(x,y,color='blue') \n",
    "        pp.grid(True) \n",
    "        pp.title(\"Muestra %s\" %(key)) \n",
    "        pp.xlabel('Interacciones') \n",
    "        pp.ylabel('Celulas Vivas')\n",
    "        pp.show()\n",
    "    "
   ]
  },
  {
   "cell_type": "code",
   "execution_count": null,
   "metadata": {},
   "outputs": [],
   "source": []
  }
 ],
 "metadata": {
  "kernelspec": {
   "display_name": "simpucha",
   "language": "python",
   "name": "simpucha"
  },
  "language_info": {
   "codemirror_mode": {
    "name": "ipython",
    "version": 3
   },
   "file_extension": ".py",
   "mimetype": "text/x-python",
   "name": "python",
   "nbconvert_exporter": "python",
   "pygments_lexer": "ipython3",
   "version": "3.7.0"
  }
 },
 "nbformat": 4,
 "nbformat_minor": 2
}
